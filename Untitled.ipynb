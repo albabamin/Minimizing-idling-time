{
 "cells": [
  {
   "cell_type": "code",
   "execution_count": 1,
   "metadata": {},
   "outputs": [],
   "source": [
    "from pulp import*\n",
    "import pandas as pd\n",
    "\n",
    "prod = ['HiFi-1','HiFi-2']\n",
    "ws = [1,2,3]\n",
    "\n",
    "prodws = []\n",
    "for i in prod:\n",
    "    for j in ws:\n",
    "        prodws.append([i,j])\n",
    "\n",
    "tottime = 480\n",
    "prodwstime = [['HiFi-1',1,6],['HiFi-1',2,5],['HiFi-1',3,4],['HiFi-2',1,4],['HiFi-2',2,5],['HiFi-2',3,6]]\n",
    "maint = [[1,0.10],[2,0.14],[3,0.12]]\n",
    "\n",
    "prodwstimedf = pd.DataFrame(prodwstime,columns=['Product','WorkStation','PT'])\n",
    "prodwstimedf = prodwstimedf.set_index(['Product','WorkStation'])\n",
    "\n",
    "maintdf = pd.DataFrame(maint,columns=['WorkStation','MaintProp'])\n",
    "maintdf = maintdf.set_index(['WorkStation'])\n",
    "\n",
    "class ProdMixMinIdleTime:\n",
    "    \n",
    "    def __init__(self,prod,ws,prodws,tottime,prodwstimedf,maintdf):\n",
    "        \n",
    "        self.prod = prod\n",
    "        \n",
    "        self.ws = ws\n",
    "        \n",
    "        self.prodws = prodws\n",
    "        \n",
    "        self.tottime = tottime\n",
    "        \n",
    "        self.prodwstimedf = prodwstimedf\n",
    "        \n",
    "        self.maintdf = maintdf\n",
    "        \n",
    "        self.prob = LpProblem(\"Minimize Idle Time\",LpMinimize)\n",
    "        \n",
    "        self.x = LpVariable.dicts(\"Product_units_variable\", ((i) for i in self.prod),lowBound=0,cat='Integer')\n",
    "        \n",
    "        self.s = LpVariable.dicts(\"Workstation_slack_variable\", ((i) for i in self.ws),lowBound=0,cat='Continuous')\n",
    "               \n",
    "        self.prob += lpSum([self.s[i] for i in self.ws])\n",
    "        \n",
    "        for i in self.ws:\n",
    "            self.prob += lpSum([self.x[j] * self.prodwstimedf.loc[(j,a),'PT'] for j,a in self.prodws if a == i]) + self.s[i] == self.tottime * (1 - self.maintdf.loc[(i),'MaintProp'])\n",
    "        \n",
    "        \n",
    "    def solve(self):\n",
    "        self.prob.solve()\n",
    "        self.prob.writeLP(\"ProdMixMinIdleTime.lp\")\n",
    "        \n",
    "    def status(self):\n",
    "        return LpStatus[self.prob.status]\n",
    "        \n",
    "    def objective(self):\n",
    "        return value(self.prob.objective)\n",
    "        \n",
    "    def returnVar(self):\n",
    "        var = []\n",
    "        for i,v in enumerate(self.prob.variables()):\n",
    "            var.append([v.name,v.varValue])\n",
    "        return var\n",
    "\n",
    "mod = ProdMixMinIdleTime(prod,ws,prodws,tottime,prodwstimedf,maintdf)\n",
    "mod.solve()\n",
    "status = mod.status()\n",
    "variables = mod.returnVar()\n",
    "objective = mod.objective()"
   ]
  },
  {
   "cell_type": "code",
   "execution_count": 2,
   "metadata": {},
   "outputs": [
    {
     "data": {
      "text/plain": [
       "'Optimal'"
      ]
     },
     "execution_count": 2,
     "metadata": {},
     "output_type": "execute_result"
    }
   ],
   "source": [
    "status"
   ]
  },
  {
   "cell_type": "code",
   "execution_count": 4,
   "metadata": {},
   "outputs": [
    {
     "data": {
      "text/plain": [
       "[['Product_units_variable_HiFi_1', 51.0],\n",
       " ['Product_units_variable_HiFi_2', 31.0],\n",
       " ['Workstation_slack_variable_1', 2.0],\n",
       " ['Workstation_slack_variable_2', 2.8],\n",
       " ['Workstation_slack_variable_3', 32.4]]"
      ]
     },
     "execution_count": 4,
     "metadata": {},
     "output_type": "execute_result"
    }
   ],
   "source": [
    "variables"
   ]
  },
  {
   "cell_type": "code",
   "execution_count": 5,
   "metadata": {},
   "outputs": [
    {
     "data": {
      "text/plain": [
       "37.199999999999996"
      ]
     },
     "execution_count": 5,
     "metadata": {},
     "output_type": "execute_result"
    }
   ],
   "source": [
    "objective"
   ]
  },
  {
   "cell_type": "code",
   "execution_count": null,
   "metadata": {},
   "outputs": [],
   "source": []
  }
 ],
 "metadata": {
  "kernelspec": {
   "display_name": "Python 3",
   "language": "python",
   "name": "python3"
  },
  "language_info": {
   "codemirror_mode": {
    "name": "ipython",
    "version": 3
   },
   "file_extension": ".py",
   "mimetype": "text/x-python",
   "name": "python",
   "nbconvert_exporter": "python",
   "pygments_lexer": "ipython3",
   "version": "3.6.4"
  }
 },
 "nbformat": 4,
 "nbformat_minor": 2
}
